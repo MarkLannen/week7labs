{
 "cells": [
  {
   "cell_type": "markdown",
   "id": "a574671e-75f8-4857-832b-2eb39dcbb7bf",
   "metadata": {},
   "source": [
    "#07 Instructor Led Lab: Data Manipulation\n",
    "\n",
    "Author: Mark Lannen\n",
    "Course: BGEN632 Grad. Intro. to Python\n",
    "Term: Spring 2025"
   ]
  },
  {
   "cell_type": "markdown",
   "id": "2104bbbb-8d69-4afa-be5b-0807d9755031",
   "metadata": {},
   "source": [
    "This notebook contains code for the organization and inspection of data in the requirements outlined in the [BGEN632 Week 7 Github repo](https://github.com/UM-BGEN632/week7labs/blob/main/07_Instructor_Lab.md)."
   ]
  },
  {
   "cell_type": "markdown",
   "id": "4a7f7315-bace-43b3-af18-beeba7cab557",
   "metadata": {},
   "source": [
    "##Import Modules"
   ]
  },
  {
   "cell_type": "code",
   "execution_count": null,
   "id": "04095e6b-a625-42c1-8587-a30115c023be",
   "metadata": {},
   "outputs": [],
   "source": [
    "import os\n",
    "import pandas as pd"
   ]
  },
  {
   "cell_type": "markdown",
   "id": "178ae724-ae71-47de-a407-39a89c4f0a7b",
   "metadata": {},
   "source": [
    "##Set Working Directory"
   ]
  },
  {
   "cell_type": "code",
   "execution_count": null,
   "id": "a8fd18c6-393c-4f72-9a02-81d96df4481f",
   "metadata": {},
   "outputs": [],
   "source": [
    "os.chdir(\"/Users/markl1/Documents/Studies/Grad_School-MBA/Spring_2025/Python/week7labs/data\")"
   ]
  },
  {
   "cell_type": "markdown",
   "id": "20940a30-b9bb-4cc4-832d-937781a95461",
   "metadata": {},
   "source": [
    "##Access Data"
   ]
  },
  {
   "cell_type": "code",
   "execution_count": null,
   "id": "018f70cb-515a-460f-ac74-11b83ed6bd4f",
   "metadata": {},
   "outputs": [],
   "source": [
    "gh_teams = pd.read_csv(\"github_teams.csv\") #open the file"
   ]
  }
 ],
 "metadata": {
  "kernelspec": {
   "display_name": "Python 3 (ipykernel)",
   "language": "python",
   "name": "python3"
  },
  "language_info": {
   "codemirror_mode": {
    "name": "ipython",
    "version": 3
   },
   "file_extension": ".py",
   "mimetype": "text/x-python",
   "name": "python",
   "nbconvert_exporter": "python",
   "pygments_lexer": "ipython3",
   "version": "3.12.7"
  }
 },
 "nbformat": 4,
 "nbformat_minor": 5
}
