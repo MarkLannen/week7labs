{
 "cells": [
  {
   "cell_type": "markdown",
   "id": "a574671e-75f8-4857-832b-2eb39dcbb7bf",
   "metadata": {},
   "source": [
    "#07 Instructor Led Lab: Data Manipulation\n",
    "\n",
    "Author: Mark Lannen\n",
    "Course: BGEN632 Grad. Intro. to Python\n",
    "Term: Spring 2025"
   ]
  },
  {
   "cell_type": "markdown",
   "id": "2104bbbb-8d69-4afa-be5b-0807d9755031",
   "metadata": {},
   "source": [
    "This notebook contains code for the organization and inspection of data in the requirements outlined in the [BGEN632 Week 7 Github repo](https://github.com/UM-BGEN632/week7labs/blob/main/07_Instructor_Lab.md)."
   ]
  },
  {
   "cell_type": "markdown",
   "id": "4a7f7315-bace-43b3-af18-beeba7cab557",
   "metadata": {},
   "source": [
    "##Import Modules"
   ]
  },
  {
   "cell_type": "code",
   "execution_count": 1,
   "id": "04095e6b-a625-42c1-8587-a30115c023be",
   "metadata": {},
   "outputs": [],
   "source": [
    "import os\n",
    "import pandas as pd"
   ]
  },
  {
   "cell_type": "markdown",
   "id": "178ae724-ae71-47de-a407-39a89c4f0a7b",
   "metadata": {},
   "source": [
    "##Set Working Directory"
   ]
  },
  {
   "cell_type": "code",
   "execution_count": 2,
   "id": "a8fd18c6-393c-4f72-9a02-81d96df4481f",
   "metadata": {},
   "outputs": [],
   "source": [
    "os.chdir(\"/Users/markl1/Documents/Studies/Grad_School-MBA/Spring_2025/Python/week7labs/data\")"
   ]
  },
  {
   "cell_type": "markdown",
   "id": "20940a30-b9bb-4cc4-832d-937781a95461",
   "metadata": {},
   "source": [
    "##Access Data"
   ]
  },
  {
   "cell_type": "code",
   "execution_count": 3,
   "id": "018f70cb-515a-460f-ac74-11b83ed6bd4f",
   "metadata": {},
   "outputs": [],
   "source": [
    "gh_teams = pd.read_csv(\"github_teams.csv\") #open the file"
   ]
  },
  {
   "cell_type": "code",
   "execution_count": 5,
   "id": "7917b58d-bbab-4ec7-b4c6-e6471b0b1799",
   "metadata": {},
   "outputs": [
    {
     "name": "stdout",
     "output_type": "stream",
     "text": [
      "CPU times: user 13 μs, sys: 1e+03 ns, total: 14 μs\n",
      "Wall time: 16 μs\n"
     ]
    },
    {
     "data": {
      "text/plain": [
       "Index(['name_h', 'Team_type', 'Team_size_class', 'human_members_count',\n",
       "       'bot_members_count', 'human_work', 'work_per_human', 'human_gini',\n",
       "       'human_Push', 'human_IssueComments', 'human_PRReviewComment',\n",
       "       'human_MergedPR', 'bot_work', 'bot_Push', 'bot_IssueComments',\n",
       "       'bot_PRReviewComment', 'bot_MergedPR', 'eval_survival_day_median',\n",
       "       'issues_count'],\n",
       "      dtype='object')"
      ]
     },
     "execution_count": 5,
     "metadata": {},
     "output_type": "execute_result"
    }
   ],
   "source": [
    "%time gh_teams.columns #get column head names"
   ]
  },
  {
   "cell_type": "code",
   "execution_count": 6,
   "id": "4a97d48c-30c3-45c2-8e77-1cebb5287b83",
   "metadata": {},
   "outputs": [
    {
     "data": {
      "text/plain": [
       "19"
      ]
     },
     "execution_count": 6,
     "metadata": {},
     "output_type": "execute_result"
    }
   ],
   "source": [
    "len(gh_teams.columns) #get number of columns"
   ]
  },
  {
   "cell_type": "code",
   "execution_count": 7,
   "id": "a938ead0-30b3-4916-8121-61ac6327eaeb",
   "metadata": {},
   "outputs": [
    {
     "data": {
      "text/plain": [
       "608"
      ]
     },
     "execution_count": 7,
     "metadata": {},
     "output_type": "execute_result"
    }
   ],
   "source": [
    "len(gh_teams) #get number of rows"
   ]
  },
  {
   "cell_type": "code",
   "execution_count": null,
   "id": "181b1126-d40b-423b-8c0b-c7e2b9cceafd",
   "metadata": {},
   "outputs": [],
   "source": []
  }
 ],
 "metadata": {
  "kernelspec": {
   "display_name": "Python 3 (ipykernel)",
   "language": "python",
   "name": "python3"
  },
  "language_info": {
   "codemirror_mode": {
    "name": "ipython",
    "version": 3
   },
   "file_extension": ".py",
   "mimetype": "text/x-python",
   "name": "python",
   "nbconvert_exporter": "python",
   "pygments_lexer": "ipython3",
   "version": "3.12.7"
  }
 },
 "nbformat": 4,
 "nbformat_minor": 5
}
