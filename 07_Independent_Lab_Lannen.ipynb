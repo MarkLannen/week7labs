{
 "cells": [
  {
   "cell_type": "markdown",
   "id": "92221e83-4ae3-497d-b890-cf9630360ff9",
   "metadata": {},
   "source": [
    "# 07 Independent Lab: Manipulating Data\n",
    "\n",
    "Author: Mark Lannen<br>\n",
    "Course: BGEN632 Grad. Intro. to Python<br>\n",
    "Term: Spring 2025<br>"
   ]
  },
  {
   "cell_type": "markdown",
   "id": "022c8afc-3042-4dd8-97a5-dd1ab2b11aee",
   "metadata": {},
   "source": [
    "## Import Pandas, set working directory and load hospital and personell data"
   ]
  },
  {
   "cell_type": "code",
   "execution_count": 4,
   "id": "a310592a-f936-41d3-b50c-015f346a0e65",
   "metadata": {},
   "outputs": [
    {
     "data": {
      "text/html": [
       "<div>\n",
       "<style scoped>\n",
       "    .dataframe tbody tr th:only-of-type {\n",
       "        vertical-align: middle;\n",
       "    }\n",
       "\n",
       "    .dataframe tbody tr th {\n",
       "        vertical-align: top;\n",
       "    }\n",
       "\n",
       "    .dataframe thead th {\n",
       "        text-align: right;\n",
       "    }\n",
       "</style>\n",
       "<table border=\"1\" class=\"dataframe\">\n",
       "  <thead>\n",
       "    <tr style=\"text-align: right;\">\n",
       "      <th></th>\n",
       "      <th>HospitalID\\tWork_ID\\tLastName\\tFirstName\\tGender\\tPositionID\\tPositionTitle\\tCompensation\\tMaxTerm\\tStartDate\\tPhone\\tEmail</th>\n",
       "    </tr>\n",
       "  </thead>\n",
       "  <tbody>\n",
       "    <tr>\n",
       "      <th>0</th>\n",
       "      <td>35665\\t351131\\tCherukuri\\tDileep\\tM\\t4\\tSafety...</td>\n",
       "    </tr>\n",
       "    <tr>\n",
       "      <th>1</th>\n",
       "      <td>12145\\t756481\\tRodriguez\\tJose\\tM\\t1\\tRegional...</td>\n",
       "    </tr>\n",
       "    <tr>\n",
       "      <th>2</th>\n",
       "      <td>45771\\t756481\\tRodriguez\\tJose\\tM\\t1\\tRegional...</td>\n",
       "    </tr>\n",
       "    <tr>\n",
       "      <th>3</th>\n",
       "      <td>43353\\t756481\\tRodriguez\\tJose\\tM\\t4\\tSafety I...</td>\n",
       "    </tr>\n",
       "    <tr>\n",
       "      <th>4</th>\n",
       "      <td>17718\\t811240\\tCharles\\tKenneth\\tM\\t1\\tRegiona...</td>\n",
       "    </tr>\n",
       "    <tr>\n",
       "      <th>...</th>\n",
       "      <td>...</td>\n",
       "    </tr>\n",
       "    <tr>\n",
       "      <th>59</th>\n",
       "      <td>33283\\t704360\\tFrank\\tVernon\\tM\\t1\\tRegional R...</td>\n",
       "    </tr>\n",
       "    <tr>\n",
       "      <th>60</th>\n",
       "      <td>33242\\t704360\\tFrank\\tVernon\\tM\\t4\\tSafety Ins...</td>\n",
       "    </tr>\n",
       "    <tr>\n",
       "      <th>61</th>\n",
       "      <td>46342\\t768057\\tTanner\\tPatricia\\tF\\t3\\tActing ...</td>\n",
       "    </tr>\n",
       "    <tr>\n",
       "      <th>62</th>\n",
       "      <td>43437\\t768057\\tTanner\\tPatricia\\tF\\t1\\tRegiona...</td>\n",
       "    </tr>\n",
       "    <tr>\n",
       "      <th>63</th>\n",
       "      <td>29823\\t768057\\tTanner\\tPatricia\\tF\\t3\\tActing ...</td>\n",
       "    </tr>\n",
       "  </tbody>\n",
       "</table>\n",
       "<p>64 rows × 1 columns</p>\n",
       "</div>"
      ],
      "text/plain": [
       "   HospitalID\\tWork_ID\\tLastName\\tFirstName\\tGender\\tPositionID\\tPositionTitle\\tCompensation\\tMaxTerm\\tStartDate\\tPhone\\tEmail\n",
       "0   35665\\t351131\\tCherukuri\\tDileep\\tM\\t4\\tSafety...                                                                         \n",
       "1   12145\\t756481\\tRodriguez\\tJose\\tM\\t1\\tRegional...                                                                         \n",
       "2   45771\\t756481\\tRodriguez\\tJose\\tM\\t1\\tRegional...                                                                         \n",
       "3   43353\\t756481\\tRodriguez\\tJose\\tM\\t4\\tSafety I...                                                                         \n",
       "4   17718\\t811240\\tCharles\\tKenneth\\tM\\t1\\tRegiona...                                                                         \n",
       "..                                                ...                                                                         \n",
       "59  33283\\t704360\\tFrank\\tVernon\\tM\\t1\\tRegional R...                                                                         \n",
       "60  33242\\t704360\\tFrank\\tVernon\\tM\\t4\\tSafety Ins...                                                                         \n",
       "61  46342\\t768057\\tTanner\\tPatricia\\tF\\t3\\tActing ...                                                                         \n",
       "62  43437\\t768057\\tTanner\\tPatricia\\tF\\t1\\tRegiona...                                                                         \n",
       "63  29823\\t768057\\tTanner\\tPatricia\\tF\\t3\\tActing ...                                                                         \n",
       "\n",
       "[64 rows x 1 columns]"
      ]
     },
     "execution_count": 4,
     "metadata": {},
     "output_type": "execute_result"
    }
   ],
   "source": [
    "import pandas as pd\n",
    "import os\n",
    "\n",
    "os.chdir(\"/Users/markl1/Documents/Studies/Grad_School-MBA/Spring_2025/Python/week7labs/data\")\n",
    "\n",
    "hospital_dataframe = pd.read_csv(\"CaliforniaHospitalData.csv\")\n",
    "# hospital_dataframe\n",
    "personnel_dataframe = pd.read_csv(\"CaliforniaHospitalData_Personnel.txt\")\n",
    "# personnel_dataframe"
   ]
  },
  {
   "cell_type": "code",
   "execution_count": null,
   "id": "fc214d0c-5bfe-4a0b-bb81-a55c475eda33",
   "metadata": {},
   "outputs": [],
   "source": []
  }
 ],
 "metadata": {
  "kernelspec": {
   "display_name": "Python 3 (ipykernel)",
   "language": "python",
   "name": "python3"
  },
  "language_info": {
   "codemirror_mode": {
    "name": "ipython",
    "version": 3
   },
   "file_extension": ".py",
   "mimetype": "text/x-python",
   "name": "python",
   "nbconvert_exporter": "python",
   "pygments_lexer": "ipython3",
   "version": "3.12.7"
  }
 },
 "nbformat": 4,
 "nbformat_minor": 5
}
